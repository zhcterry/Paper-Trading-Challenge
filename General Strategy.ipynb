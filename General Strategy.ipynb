{
 "cells": [
  {
   "cell_type": "code",
   "execution_count": 1,
   "metadata": {},
   "outputs": [],
   "source": [
    "import yfinance as yf\n",
    "import numpy as np\n",
    "import pandas as pd\n",
    "import datetime as dt\n",
    "import matplotlib.pyplot as plt\n",
    "from pandas.io.html import read_html\n",
    "import re\n",
    "import requests\n",
    "import gurobipy as gp\n",
    "from gurobipy import GRB\n",
    "from math import *\n",
    "from tqdm import tqdm"
   ]
  },
  {
   "cell_type": "code",
   "execution_count": 2,
   "metadata": {},
   "outputs": [],
   "source": [
    "base_url = \"https://www.investopedia.com/top-stocks-4581225\"\n",
    "\n",
    "content = requests.get(base_url)\n",
    "\n",
    "urls_raw = re.findall(\"<li class=\\\"journey-nav__sublist-item \\\">\\n.*\\n.*\\n\", content.text) \n",
    "\n",
    "urls=[]\n",
    "\n",
    "for url in urls_raw:\n",
    "    url_clean = re.findall(\"https.*\\\"\",url)\n",
    "    url_cleaner = url_clean[0][:-1]\n",
    "    urls.append(url_cleaner)"
   ]
  },
  {
   "cell_type": "code",
   "execution_count": 3,
   "metadata": {},
   "outputs": [],
   "source": [
    "urls_m = urls[0:10+1] + urls[18:]\n",
    "tables = []\n",
    "try:\n",
    "    for url in urls_m:\n",
    "        table = read_html(url)\n",
    "        tables.append(table)\n",
    "except Exception as e:\n",
    "    print(url)\n",
    "    \n",
    "del urls\n",
    "# dividend stocks doesn't tables, may have to manually key in"
   ]
  },
  {
   "cell_type": "code",
   "execution_count": 4,
   "metadata": {},
   "outputs": [],
   "source": [
    "# Check if very webpage follow the value, growth, momentum format.\n",
    "for table in tables:\n",
    "    if(len(table) != 3):\n",
    "        print(len(table))"
   ]
  },
  {
   "cell_type": "code",
   "execution_count": 5,
   "metadata": {},
   "outputs": [],
   "source": [
    "stocks_raw = []\n",
    "tags = []\n",
    "\n",
    "for table in tables:\n",
    "    for i in range(3):\n",
    "        stocks =  table[i].iloc[1:3+1,0]\n",
    "        identifier = stocks.name\n",
    "        identifier = identifier.split(\" \")\n",
    "        if(\"Value\" in identifier): identifier = [e for e in identifier if e not in {\"Best\",\"Stocks\"}]\n",
    "        if(\"Growing\" in identifier) : identifier = [e for e in identifier if e not in {\"Fastest\",\"Stocks\"}]\n",
    "        if(\"Momentum\" in identifier) : identifier = [e for e in identifier if e not in {\"with\",\"the\",\"Most\",\"Stocks\"}]\n",
    "\n",
    "        stocks_raw.append(stocks)\n",
    "        tags.append(identifier)\n",
    "del tables"
   ]
  },
  {
   "cell_type": "code",
   "execution_count": 6,
   "metadata": {},
   "outputs": [],
   "source": [
    "stocks_cleaned = []\n",
    "for i in range(len(stocks_raw)):\n",
    "    for j in range(len(stocks_raw[i])):\n",
    "        stocks_df = list(stocks_raw[i])[j]\n",
    "        stocks_cleaned.append([stocks_df,tags[i]])\n",
    "del stocks_raw"
   ]
  },
  {
   "cell_type": "code",
   "execution_count": 7,
   "metadata": {},
   "outputs": [],
   "source": [
    "stocks_rows = []\n",
    "\n",
    "for i in range(len(stocks_cleaned)):\n",
    "    stock = stocks_cleaned[i][0]\n",
    "    tag = stocks_cleaned[i][1].copy()\n",
    "    \n",
    "    stock_raw = stock.split(\" \")\n",
    "    stock_name = \" \".join(stock_raw[:-1])\n",
    "    stock_ticker = stock_raw[-1][1:-1]\n",
    "    # type: value,growing or momentum\n",
    "    if (\"Value\" in tag):\n",
    "        type_ = \"Value\"\n",
    "        tag.remove(\"Value\")\n",
    "    if (\"Growing\" in tag):\n",
    "        type_ = \"Growth\"\n",
    "        tag.remove(\"Growing\")\n",
    "    if (\"Momentum\" in tag):\n",
    "        type_ = \"Momentum\"\n",
    "        tag.remove(\"Momentum\")\n",
    "    \n",
    "    # Sub-categories\n",
    "    sub = \" \".join(tag)\n",
    "    stocks_rows.append([stock_name,stock_ticker,type_,sub])\n",
    "    \n",
    "del stocks_cleaned"
   ]
  },
  {
   "cell_type": "code",
   "execution_count": 8,
   "metadata": {},
   "outputs": [],
   "source": [
    "def expand_rows(lst):\n",
    "    types = ['Growth', 'Momentum', 'Value']\n",
    "    a = lst[0:2]\n",
    "    b = [int(lst[2] in type) for type in types]\n",
    "    c = [lst[3]]\n",
    "    return(a+b+c)"
   ]
  },
  {
   "cell_type": "code",
   "execution_count": 9,
   "metadata": {},
   "outputs": [],
   "source": [
    "stocks_expanded = list(map(lambda x:expand_rows(x),stocks_rows))\n",
    "\n",
    "df_stocks = pd.DataFrame(stocks_expanded,columns=[\"stock\",\"ticker\",'is.Growth', 'is.Momentum', 'is.Value',\n",
    "                                                  \"Tag\"])\n",
    "del stocks_rows"
   ]
  },
  {
   "cell_type": "code",
   "execution_count": 10,
   "metadata": {},
   "outputs": [],
   "source": [
    "df_grouped = df_stocks.groupby(df_stocks[\"ticker\"]).mean().round()\n",
    "df_grouped.reset_index(level=0, inplace=True)\n",
    "df_grouped.loc[df_grouped.ticker == \"BRK.B\", 'ticker'] = \"BRK-B\"\n",
    "df_grouped[\"is.Momentum\"] = list(map(lambda x: int(x),df_grouped[\"is.Momentum\"]))\n",
    "df_grouped[\"is.Growth\"] = list(map(lambda x: int(x),df_grouped[\"is.Growth\"]))\n",
    "df_grouped[\"is.Value\"] = list(map(lambda x: int(x),df_grouped[\"is.Value\"]))"
   ]
  },
  {
   "cell_type": "code",
   "execution_count": 11,
   "metadata": {},
   "outputs": [
    {
     "name": "stdout",
     "output_type": "stream",
     "text": [
      "[*********************100%***********************]  175 of 175 completed\n"
     ]
    }
   ],
   "source": [
    "tickers = np.unique(df_grouped[\"ticker\"])\n",
    "maindata = yf.download(list(tickers))[\"Adj Close\"]"
   ]
  },
  {
   "cell_type": "code",
   "execution_count": 12,
   "metadata": {},
   "outputs": [
    {
     "data": {
      "text/html": [
       "<div>\n",
       "<style scoped>\n",
       "    .dataframe tbody tr th:only-of-type {\n",
       "        vertical-align: middle;\n",
       "    }\n",
       "\n",
       "    .dataframe tbody tr th {\n",
       "        vertical-align: top;\n",
       "    }\n",
       "\n",
       "    .dataframe thead th {\n",
       "        text-align: right;\n",
       "    }\n",
       "</style>\n",
       "<table border=\"1\" class=\"dataframe\">\n",
       "  <thead>\n",
       "    <tr style=\"text-align: right;\">\n",
       "      <th></th>\n",
       "      <th>stock</th>\n",
       "      <th>ticker</th>\n",
       "      <th>is.Growth</th>\n",
       "      <th>is.Momentum</th>\n",
       "      <th>is.Value</th>\n",
       "      <th>Tag</th>\n",
       "    </tr>\n",
       "  </thead>\n",
       "  <tbody>\n",
       "    <tr>\n",
       "      <th>0</th>\n",
       "      <td>ViacomCBS Inc.</td>\n",
       "      <td>VIAC</td>\n",
       "      <td>0</td>\n",
       "      <td>0</td>\n",
       "      <td>1</td>\n",
       "      <td>Communications</td>\n",
       "    </tr>\n",
       "    <tr>\n",
       "      <th>1</th>\n",
       "      <td>CenturyLink Inc.</td>\n",
       "      <td>CTL</td>\n",
       "      <td>0</td>\n",
       "      <td>0</td>\n",
       "      <td>1</td>\n",
       "      <td>Communications</td>\n",
       "    </tr>\n",
       "    <tr>\n",
       "      <th>2</th>\n",
       "      <td>Discovery Inc.</td>\n",
       "      <td>DISCK</td>\n",
       "      <td>0</td>\n",
       "      <td>0</td>\n",
       "      <td>1</td>\n",
       "      <td>Communications</td>\n",
       "    </tr>\n",
       "    <tr>\n",
       "      <th>3</th>\n",
       "      <td>Netflix Inc.</td>\n",
       "      <td>NFLX</td>\n",
       "      <td>1</td>\n",
       "      <td>0</td>\n",
       "      <td>0</td>\n",
       "      <td>Communications</td>\n",
       "    </tr>\n",
       "    <tr>\n",
       "      <th>4</th>\n",
       "      <td>Charter Communications Inc.</td>\n",
       "      <td>CHTR</td>\n",
       "      <td>1</td>\n",
       "      <td>0</td>\n",
       "      <td>0</td>\n",
       "      <td>Communications</td>\n",
       "    </tr>\n",
       "    <tr>\n",
       "      <th>...</th>\n",
       "      <td>...</td>\n",
       "      <td>...</td>\n",
       "      <td>...</td>\n",
       "      <td>...</td>\n",
       "      <td>...</td>\n",
       "      <td>...</td>\n",
       "    </tr>\n",
       "    <tr>\n",
       "      <th>230</th>\n",
       "      <td>Orsted A/S</td>\n",
       "      <td>DNNGY</td>\n",
       "      <td>1</td>\n",
       "      <td>0</td>\n",
       "      <td>0</td>\n",
       "      <td>Wind</td>\n",
       "    </tr>\n",
       "    <tr>\n",
       "      <th>231</th>\n",
       "      <td>Boralex Inc.</td>\n",
       "      <td>BLX.TO</td>\n",
       "      <td>1</td>\n",
       "      <td>0</td>\n",
       "      <td>0</td>\n",
       "      <td>Wind</td>\n",
       "    </tr>\n",
       "    <tr>\n",
       "      <th>232</th>\n",
       "      <td>Boralex Inc.</td>\n",
       "      <td>BLX.TO</td>\n",
       "      <td>0</td>\n",
       "      <td>1</td>\n",
       "      <td>0</td>\n",
       "      <td>Wind</td>\n",
       "    </tr>\n",
       "    <tr>\n",
       "      <th>233</th>\n",
       "      <td>Orsted A/S</td>\n",
       "      <td>DNNGY</td>\n",
       "      <td>0</td>\n",
       "      <td>1</td>\n",
       "      <td>0</td>\n",
       "      <td>Wind</td>\n",
       "    </tr>\n",
       "    <tr>\n",
       "      <th>234</th>\n",
       "      <td>Northland Power Inc.</td>\n",
       "      <td>NPI.TO</td>\n",
       "      <td>0</td>\n",
       "      <td>1</td>\n",
       "      <td>0</td>\n",
       "      <td>Wind</td>\n",
       "    </tr>\n",
       "  </tbody>\n",
       "</table>\n",
       "<p>235 rows × 6 columns</p>\n",
       "</div>"
      ],
      "text/plain": [
       "                           stock  ticker  is.Growth  is.Momentum  is.Value  \\\n",
       "0                 ViacomCBS Inc.    VIAC          0            0         1   \n",
       "1               CenturyLink Inc.     CTL          0            0         1   \n",
       "2                 Discovery Inc.   DISCK          0            0         1   \n",
       "3                   Netflix Inc.    NFLX          1            0         0   \n",
       "4    Charter Communications Inc.    CHTR          1            0         0   \n",
       "..                           ...     ...        ...          ...       ...   \n",
       "230                   Orsted A/S   DNNGY          1            0         0   \n",
       "231                 Boralex Inc.  BLX.TO          1            0         0   \n",
       "232                 Boralex Inc.  BLX.TO          0            1         0   \n",
       "233                   Orsted A/S   DNNGY          0            1         0   \n",
       "234         Northland Power Inc.  NPI.TO          0            1         0   \n",
       "\n",
       "                Tag  \n",
       "0    Communications  \n",
       "1    Communications  \n",
       "2    Communications  \n",
       "3    Communications  \n",
       "4    Communications  \n",
       "..              ...  \n",
       "230            Wind  \n",
       "231            Wind  \n",
       "232            Wind  \n",
       "233            Wind  \n",
       "234            Wind  \n",
       "\n",
       "[235 rows x 6 columns]"
      ]
     },
     "execution_count": 12,
     "metadata": {},
     "output_type": "execute_result"
    }
   ],
   "source": [
    "# df_stocks[df_stocks['stock'].isin(stocks)]\n",
    "df_stocks"
   ]
  },
  {
   "cell_type": "code",
   "execution_count": 13,
   "metadata": {},
   "outputs": [],
   "source": [
    "data = maindata.dropna()\n",
    "ret = data.pct_change().dropna()\n",
    "ret_mean = ret.mean()\n",
    "ret_std = ret.std()\n",
    "ret_cov = ret.cov()\n",
    "stocks = data.columns\n"
   ]
  },
  {
   "cell_type": "code",
   "execution_count": 14,
   "metadata": {},
   "outputs": [
    {
     "name": "stdout",
     "output_type": "stream",
     "text": [
      "Using license file c:\\gurobi\\gurobi.lic\n",
      "Academic license - for non-commercial use only\n"
     ]
    }
   ],
   "source": [
    "m = gp.Model('portfolio')\n",
    "n = len(stocks)\n",
    "\n",
    "weights = pd.Series(m.addVars(stocks, name = \"stock\",vtype = GRB.INTEGER), index=stocks)\n",
    "\n",
    "portfolio_risk = ret_cov.dot(weights*0.01).dot(weights*0.01)\n",
    "m.setObjective(portfolio_risk, GRB.MINIMIZE)\n",
    "\n",
    "m.addConstr(weights.sum() == 100, 'budget')\n",
    "\n",
    "\n",
    "m.setParam('OutputFlag', 0) # don't print the whole Chunk out\n",
    "m.optimize()\n",
    "\n",
    "# portfolio_return = ret_mean.dot(weights)\n",
    "\n",
    "# mm.setObjective(sum(var[i]*c[i] for i in range(m)), GRB.MAXIMIZE)"
   ]
  },
  {
   "cell_type": "code",
   "execution_count": 15,
   "metadata": {},
   "outputs": [
    {
     "data": {
      "text/plain": [
       "AAPL        <gurobi.Var stock[AAPL] (value -0.0)>\n",
       "ABEV        <gurobi.Var stock[ABEV] (value -0.0)>\n",
       "ABX.TO    <gurobi.Var stock[ABX.TO] (value -0.0)>\n",
       "ADM          <gurobi.Var stock[ADM] (value -0.0)>\n",
       "AEM.TO    <gurobi.Var stock[AEM.TO] (value -0.0)>\n",
       "                           ...                   \n",
       "WRK          <gurobi.Var stock[WRK] (value -0.0)>\n",
       "WST          <gurobi.Var stock[WST] (value -0.0)>\n",
       "XBIT        <gurobi.Var stock[XBIT] (value -0.0)>\n",
       "XRX          <gurobi.Var stock[XRX] (value -0.0)>\n",
       "ZNGA        <gurobi.Var stock[ZNGA] (value -0.0)>\n",
       "Length: 175, dtype: object"
      ]
     },
     "execution_count": 15,
     "metadata": {},
     "output_type": "execute_result"
    }
   ],
   "source": [
    "weights\n",
    "# print('Minimum Risk Portfolio:\\n')\n",
    "# for weight in weights:\n",
    "#     if weight.x > 0:\n",
    "#         print(\"{} : {}%\".format(weight.varname, weight.x))\n",
    "# minrisk_volatility = sqrt(portfolio_risk.getValue())\n",
    "# print('Volatility      = {}'.format(minrisk_volatility))\n",
    "# minrisk_return = portfolio_return.getValue()\n",
    "# print('Expected Return = {}'.format(minrisk_return))"
   ]
  },
  {
   "cell_type": "code",
   "execution_count": 16,
   "metadata": {},
   "outputs": [],
   "source": [
    "# target = m.addConstr(portfolio_return == minrisk_return, 'target')\n",
    "# frontier = pd.Series()\n",
    "# for r in tqdm(np.linspace(ret_mean.min(), ret_mean.max(), 100)):\n",
    "#     target.rhs = r\n",
    "#     m.optimize()\n",
    "#     frontier.loc[sqrt(portfolio_risk.getValue())] = r"
   ]
  },
  {
   "cell_type": "code",
   "execution_count": 17,
   "metadata": {},
   "outputs": [
    {
     "data": {
      "text/plain": [
       "1"
      ]
     },
     "execution_count": 17,
     "metadata": {},
     "output_type": "execute_result"
    }
   ],
   "source": [
    "ceil(0.1)"
   ]
  },
  {
   "cell_type": "code",
   "execution_count": 18,
   "metadata": {},
   "outputs": [
    {
     "ename": "SyntaxError",
     "evalue": "invalid syntax (<ipython-input-18-7136f5137cb8>, line 1)",
     "output_type": "error",
     "traceback": [
      "\u001b[1;36m  File \u001b[1;32m\"<ipython-input-18-7136f5137cb8>\"\u001b[1;36m, line \u001b[1;32m1\u001b[0m\n\u001b[1;33m    len(if([1,2,3,4] > 1))\u001b[0m\n\u001b[1;37m        ^\u001b[0m\n\u001b[1;31mSyntaxError\u001b[0m\u001b[1;31m:\u001b[0m invalid syntax\n"
     ]
    }
   ],
   "source": [
    "len(if([1,2,3,4] > 1))"
   ]
  }
 ],
 "metadata": {
  "kernelspec": {
   "display_name": "Python 3",
   "language": "python",
   "name": "python3"
  },
  "language_info": {
   "codemirror_mode": {
    "name": "ipython",
    "version": 3
   },
   "file_extension": ".py",
   "mimetype": "text/x-python",
   "name": "python",
   "nbconvert_exporter": "python",
   "pygments_lexer": "ipython3",
   "version": "3.8.3"
  },
  "toc": {
   "base_numbering": 1,
   "nav_menu": {},
   "number_sections": false,
   "sideBar": true,
   "skip_h1_title": false,
   "title_cell": "Table of Contents",
   "title_sidebar": "Contents",
   "toc_cell": false,
   "toc_position": {},
   "toc_section_display": true,
   "toc_window_display": false
  },
  "varInspector": {
   "cols": {
    "lenName": 16,
    "lenType": 16,
    "lenVar": 40
   },
   "kernels_config": {
    "python": {
     "delete_cmd_postfix": "",
     "delete_cmd_prefix": "del ",
     "library": "var_list.py",
     "varRefreshCmd": "print(var_dic_list())"
    },
    "r": {
     "delete_cmd_postfix": ") ",
     "delete_cmd_prefix": "rm(",
     "library": "var_list.r",
     "varRefreshCmd": "cat(var_dic_list()) "
    }
   },
   "types_to_exclude": [
    "module",
    "function",
    "builtin_function_or_method",
    "instance",
    "_Feature"
   ],
   "window_display": false
  }
 },
 "nbformat": 4,
 "nbformat_minor": 4
}
